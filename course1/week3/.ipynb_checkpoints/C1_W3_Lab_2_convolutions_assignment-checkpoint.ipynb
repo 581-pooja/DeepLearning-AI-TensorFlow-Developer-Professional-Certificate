{
 "cells": [
  {
   "cell_type": "markdown",
   "metadata": {
    "colab_type": "text",
    "id": "iQjHqsmTAVLU"
   },
   "source": [
    "## Exercise 3\n",
    "In the videos you looked at how you would improve Fashion MNIST using Convolutions. For your exercise see if you can improve MNIST to 99.8% accuracy or more using only a single convolutional layer and a single MaxPooling 2D. You should stop training once the accuracy goes above this amount. It should happen in less than 20 epochs, so it's ok to hard code the number of epochs for training, but your training must end once it hits the above metric. If it doesn't, then you'll need to redesign your layers.\n",
    "\n",
    "I've started the code for you -- you need to finish it!\n",
    "\n",
    "When 99.8% accuracy has been hit, you should print out the string \"Reached 99.8% accuracy so cancelling training!\"\n"
   ]
  },
  {
   "cell_type": "code",
   "execution_count": 1,
   "metadata": {},
   "outputs": [],
   "source": [
    "import tensorflow as tf\n",
    "from os import path, getcwd, chdir\n",
    "\n",
    "# DO NOT CHANGE THE LINE BELOW. If you are developing in a local\n",
    "# environment, then grab mnist.npz from the Coursera Jupyter Notebook\n",
    "# and place it inside a local folder and edit the path to that location\n",
    "path = f\"{getcwd()}/../tmp2/mnist.npz\""
   ]
  },
  {
   "cell_type": "code",
   "execution_count": 10,
   "metadata": {},
   "outputs": [],
   "source": [
    "config = tf.ConfigProto()\n",
    "config.gpu_options.allow_growth = True\n",
    "sess = tf.Session(config=config)"
   ]
  },
  {
   "cell_type": "code",
   "execution_count": 3,
   "metadata": {},
   "outputs": [],
   "source": [
    "# GRADED FUNCTION: train_mnist_conv\n",
    "def train_mnist_conv():\n",
    "    # Please write your code only where you are indicated.\n",
    "    # please do not remove model fitting inline comments.\n",
    "\n",
    "    # YOUR CODE STARTS HERE\n",
    "    class myCallback(tf.keras.callbacks.Callback):\n",
    "        def on_epoch_end(self, epoch, logs={}):\n",
    "            if(logs.get('acc')>0.998):\n",
    "                print(\"\\nReached 99.8% accuracy so cancelling training!\")\n",
    "                self.model.stop_training = True\n",
    "    \n",
    "    # YOUR CODE ENDS HERE\n",
    "\n",
    "    mnist = tf.keras.datasets.mnist\n",
    "    (training_images, training_labels), (test_images, test_labels) = mnist.load_data()\n",
    "    # YOUR CODE STARTS HERE\n",
    "    callbacks = myCallback()\n",
    "    training_images = training_images[:3000]\n",
    "    training_labels = training_labels[:3000] \n",
    "    # checking the images shape\n",
    "    print(training_images.shape)\n",
    "    # converting the fashion mnist images in one channel i.e. black and white\n",
    "    training_images=training_images.reshape(3000, 28, 28, 1)\n",
    "    \n",
    "    # YOUR CODE ENDS HERE\n",
    "\n",
    "    model = tf.keras.models.Sequential([\n",
    "            # YOUR CODE STARTS HERE\n",
    "        \n",
    "            # Add convolutions and max pooling\n",
    "            tf.keras.layers.Conv2D(64, (3,3), activation='relu', input_shape=(28, 28, 1)),\n",
    "            tf.keras.layers.MaxPooling2D(2, 2),\n",
    "            tf.keras.layers.Conv2D(64, (3,3), activation='relu'),\n",
    "            tf.keras.layers.MaxPooling2D(2,2),\n",
    "            \n",
    "            # Add the same layers i.e. input , dense and output layers\n",
    "            tf.keras.layers.Flatten(),\n",
    "            tf.keras.layers.Dense(128, activation='relu'),\n",
    "            tf.keras.layers.Dense(10, activation='softmax')\n",
    "            # YOUR CODE ENDS HERE\n",
    "    ])\n",
    "\n",
    "    model.compile(optimizer='adam', loss='sparse_categorical_crossentropy', metrics=['accuracy'])\n",
    "    # model fitting\n",
    "    history = model.fit(\n",
    "        # YOUR CODE STARTS HERE\n",
    "            training_images, training_labels, epochs=20, callbacks=[callbacks]\n",
    "        # YOUR CODE ENDS HERE\n",
    "    )\n",
    "\n",
    "    return history.epoch, history.history['acc'][-1]"
   ]
  },
  {
   "cell_type": "code",
   "execution_count": 12,
   "metadata": {},
   "outputs": [
    {
     "name": "stdout",
     "output_type": "stream",
     "text": [
      "Downloading data from https://storage.googleapis.com/tensorflow/tf-keras-datasets/mnist.npz\n",
      "11493376/11490434 [==============================] - 0s 0us/step\n",
      "(3000, 28, 28)\n",
      "Epoch 1/20\n",
      "3000/3000 [==============================] - 1s 288us/sample - loss: 3.0804 - acc: 0.7750\n",
      "Epoch 2/20\n",
      "3000/3000 [==============================] - 1s 207us/sample - loss: 0.1738 - acc: 0.9533\n",
      "Epoch 3/20\n",
      "3000/3000 [==============================] - 1s 227us/sample - loss: 0.0805 - acc: 0.9770\n",
      "Epoch 4/20\n",
      "3000/3000 [==============================] - 1s 200us/sample - loss: 0.0413 - acc: 0.9887\n",
      "Epoch 5/20\n",
      "3000/3000 [==============================] - 1s 201us/sample - loss: 0.0206 - acc: 0.9943\n",
      "Epoch 6/20\n",
      "3000/3000 [==============================] - 1s 201us/sample - loss: 0.0109 - acc: 0.9973\n",
      "Epoch 7/20\n",
      "3000/3000 [==============================] - 1s 199us/sample - loss: 0.0122 - acc: 0.9957\n",
      "Epoch 8/20\n",
      "3000/3000 [==============================] - 1s 201us/sample - loss: 0.0441 - acc: 0.9807\n",
      "Epoch 9/20\n",
      "3000/3000 [==============================] - 1s 227us/sample - loss: 0.0623 - acc: 0.9783\n",
      "Epoch 10/20\n",
      "3000/3000 [==============================] - 1s 203us/sample - loss: 0.0400 - acc: 0.9850\n",
      "Epoch 11/20\n",
      "3000/3000 [==============================] - 1s 202us/sample - loss: 0.0794 - acc: 0.9760\n",
      "Epoch 12/20\n",
      "3000/3000 [==============================] - 1s 226us/sample - loss: 0.0206 - acc: 0.9923\n",
      "Epoch 13/20\n",
      "3000/3000 [==============================] - 1s 202us/sample - loss: 0.0169 - acc: 0.9963\n",
      "Epoch 14/20\n",
      "2688/3000 [=========================>....] - ETA: 0s - loss: 0.0048 - acc: 0.9989\n",
      "Reached 99.8% accuracy so cancelling training!\n",
      "3000/3000 [==============================] - 1s 204us/sample - loss: 0.0044 - acc: 0.9990\n"
     ]
    }
   ],
   "source": [
    "_, _ = train_mnist_conv()"
   ]
  }
 ],
 "metadata": {
  "coursera": {
   "course_slug": "introduction-tensorflow",
   "graded_item_id": "ml06H",
   "launcher_item_id": "hQF8A"
  },
  "kernelspec": {
   "display_name": "Python 3 (ipykernel)",
   "language": "python",
   "name": "python3"
  },
  "language_info": {
   "codemirror_mode": {
    "name": "ipython",
    "version": 3
   },
   "file_extension": ".py",
   "mimetype": "text/x-python",
   "name": "python",
   "nbconvert_exporter": "python",
   "pygments_lexer": "ipython3",
   "version": "3.9.2"
  }
 },
 "nbformat": 4,
 "nbformat_minor": 1
}
