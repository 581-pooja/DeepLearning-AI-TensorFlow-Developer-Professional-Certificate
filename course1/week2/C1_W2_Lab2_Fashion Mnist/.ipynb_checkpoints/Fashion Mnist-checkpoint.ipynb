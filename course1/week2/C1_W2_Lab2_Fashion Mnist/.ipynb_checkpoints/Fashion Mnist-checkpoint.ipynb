{
 "cells": [
  {
   "cell_type": "markdown",
   "id": "dc184230",
   "metadata": {},
   "source": [
    "# Computer Vision Examples"
   ]
  },
  {
   "cell_type": "markdown",
   "id": "168c656f",
   "metadata": {},
   "source": [
    "Scenario where writing rules like that is much more difficult -- for example a computer vision problem? Let's take a look at a scenario where we can recognize different items of clothing, trained from a dataset containing 10 different types."
   ]
  },
  {
   "cell_type": "markdown",
   "id": "11318c50",
   "metadata": {},
   "source": [
    "# !pip install tensorflow\n",
    "https://github.com/https-deeplearning-ai/tensorflow-1-public/blob/main/C1/W2/ungraded_labs/C1_W2_Lab_1_beyond_hello_world.ipynb "
   ]
  },
  {
   "cell_type": "code",
   "execution_count": 5,
   "id": "ad6b51ee",
   "metadata": {},
   "outputs": [
    {
     "name": "stdout",
     "output_type": "stream",
     "text": [
      "2.6.0\n"
     ]
    }
   ],
   "source": [
    "import tensorflow as tf\n",
    "print(tf.__version__)"
   ]
  },
  {
   "cell_type": "markdown",
   "id": "4535cce9",
   "metadata": {},
   "source": [
    "The Fashion MNIST data is available directly in the tf.keras datasets API. "
   ]
  },
  {
   "cell_type": "code",
   "execution_count": 6,
   "id": "c811dcfa",
   "metadata": {},
   "outputs": [],
   "source": [
    "mnist = tf.keras.datasets.fashion_mnist"
   ]
  },
  {
   "cell_type": "markdown",
   "id": "4dc84bef",
   "metadata": {},
   "source": [
    "Calling load_data on this object will give you two sets of two lists, these will be the training and testing values for the graphics that contain the clothing items and their labels."
   ]
  },
  {
   "cell_type": "code",
   "execution_count": 7,
   "id": "6994646e",
   "metadata": {},
   "outputs": [],
   "source": [
    "(training_images, training_labels),(test_images,test_labels) = mnist.load_data()"
   ]
  },
  {
   "cell_type": "markdown",
   "id": "7aa6022f",
   "metadata": {},
   "source": [
    "What does these values look like? Let's print a training image, and a training label to see...Experiment with different indices in the array. For example, also take a look at index 42...that's a a different boot than the one at index 0"
   ]
  },
  {
   "cell_type": "code",
   "execution_count": 9,
   "id": "44e9bfd5",
   "metadata": {},
   "outputs": [
    {
     "name": "stdout",
     "output_type": "stream",
     "text": [
      "2\n",
      "[[  0   0   0   0   0   0   0   0   0  26  61 113 159 115  57  60 163 128  41  18   0   0   0   1   0   0   0   0]\n",
      " [  0   0   0   1   0   0  23 120 148 170 160 133 173 173 135 158 254 153 138 155 135  77   0   0   1   0   0   0]\n",
      " [  0   0   0   0   0  30 146 141 134 125 120 119 110 143 157 204 154  71 111 111 115 126  97   0   0   0   0   0]\n",
      " [  0   0   0   0   0 110 135 121 128 129 119 131 118 114 172 133  75 115 111 105 105  99 118  51   0   0   0   0]\n",
      " [  0   0   0   0   0 128 121 125 126 123 125 123 123 106 106  92 110 108 109 110 106  96 104  81   0   0   0   0]\n",
      " [  0   0   0   0  11 128 130 144 114 120 120 120 115 105 103 105 105 104 113 108  96  91 108  95   0   0   0   0]\n",
      " [  0   0   0   0  37 134 123 180 120 111 113 115 115 104 110 109 100 103 104 100  90 108 114 103   0   0   0   0]\n",
      " [  0   0   0   0  74 134 106 202 175 110 113 114 114 103 106 110 105 105  96  95  86 125 110 110   0   0   0   0]\n",
      " [  0   0   0   0  96 134 108 202 218 113 119 115 116 104 105 111 111 109 108  94 109 141 104 114   0   0   0   0]\n",
      " [  0   0   0   0 111 131  95 182 207 114 120 114 114 106 109 113 110 108  95  80 140 153 104 113   0   0   0   0]\n",
      " [  0   0   0   0 126 126 120 150 178 134 118 119 114 110 111 110 110 109  96  85 141 151 106 118   0   0   0   0]\n",
      " [  0   0   0   0 130 124 131 126 167 164 104 118 114 115 113 109 109 114  96  87 124 159 106 116   0   0   0   0]\n",
      " [  0   0   0   0 144 123 143 114 125 178  96 120 116 110 110 110 110 111  97  85  56 167 109 118   7   0   0   0]\n",
      " [  0   0   0   0 149 121 149 106 123 173  99 120 116 111 111 110 108 115 101  84  33 167 116 115  20   0   0   0]\n",
      " [  0   0   0   0 154 119 157  94  99 164 108 119 119 114 111 108 105 116 109  80  22 158 129 116  30   0   0   0]\n",
      " [  0   0   0  18 151 119 169  82  99 144 116 119 119 115 113 109 105 114 115  82  16 169 129 119  37   0   0   0]\n",
      " [  0   0   0  27 145 120 168  84 124 124 124 120 116 116 114 113 106 116 121  92   2 162 126 125  43   0   0   0]\n",
      " [  0   0   0  35 145 115 163  51 141 124 124 120 118 118 116 113 110 115 123 105  12 153 125 123  42   0   0   0]\n",
      " [  0   0   0  45 148 118 160  13 153 124 125 121 118 119 118 114 114 110 119 118  28 157 123 125  38   0   0   0]\n",
      " [  0   0   0  56 143 121 145  54 167 118 123 121 119 121 120 116 118 110 109 128  27 154 128 125  37   0   0   0]\n",
      " [  0   0   0  66 144 126 111  91 164 114 125 124 121 125 125 121 119 120 105 130  27 130 129 124  33   0   0   0]\n",
      " [  0   0   0  75 136 146  85  56 168 120 128 125 124 125 125 121 119 125 111 126  30 124 136 121  40   0   0   0]\n",
      " [  0   0   0  85 125 143  69   2 145 129 131 130 130 128 125 124 121 116 119 128   1 118 138 114  45   0   0   0]\n",
      " [  0   0   0  97 126 133  48  28 160 141 141 141 141 138 135 135 134 135 130 167   2  95 139 115  60   0   0   0]\n",
      " [  0   0   0 119 128 128  30   0  67  47  48  48  50  48  47  47  47  48  45  56   0  66 143 115  69   0   0   0]\n",
      " [  0   0   0  70 139 125   0   0   0   0   0   0   0   0   0   0   0   0   0   0   0  18 140 131  47   0   0   0]\n",
      " [  0   0   0  69 158 124   0   0   3   2   1   1   1   1   1   1   1   5   2   2   0  10 143 140  55   0   0   0]\n",
      " [  0   0   0  36 123  79   0   0   1   0   0   0   0   0   0   0   0   0   0   1   0   0 111 119  32   0   0   0]]\n"
     ]
    },
    {
     "data": {
      "image/png": "[encoded data removed]",
      "text/plain": [
       "<Figure size 432x288 with 1 Axes>"
      ]
     },
     "metadata": {
      "needs_background": "light"
     },
     "output_type": "display_data"
    }
   ],
   "source": [
    "import numpy as np\n",
    "np.set_printoptions(linewidth=200)\n",
    "import matplotlib.pyplot as plt\n",
    "plt.imshow(training_images[30005]) # line will plot the image of object or index given\n",
    "print(training_labels[30005]) # printing the label wrt to image i.e. index\n",
    "print(training_images[30005]) # printing the image pixel values wrt index given"
   ]
  },
  {
   "cell_type": "code",
   "execution_count": 6,
   "id": "2fc970f1",
   "metadata": {},
   "outputs": [
    {
     "data": {
      "text/plain": [
       "(60000,)"
      ]
     },
     "execution_count": 6,
     "metadata": {},
     "output_type": "execute_result"
    }
   ],
   "source": [
    "training_labels.shape"
   ]
  },
  {
   "cell_type": "code",
   "execution_count": 7,
   "id": "b77b3ab0",
   "metadata": {},
   "outputs": [
    {
     "data": {
      "text/plain": [
       "(10000,)"
      ]
     },
     "execution_count": 7,
     "metadata": {},
     "output_type": "execute_result"
    }
   ],
   "source": [
    "test_labels.shape"
   ]
  },
  {
   "cell_type": "markdown",
   "id": "0b7eb5e8",
   "metadata": {},
   "source": [
    "<img src = \"Fashion_Mints_Image.png\" width=\"500\">"
   ]
  },
  {
   "cell_type": "markdown",
   "id": "71594e4a",
   "metadata": {},
   "source": [
    "<img src = \"Fashion_Mints_Image_all.png\" width=\"500\">\n",
    "<img src = \"ss of labels.png\" width=\"500\">"
   ]
  },
  {
   "cell_type": "markdown",
   "id": "7f08a801",
   "metadata": {},
   "source": [
    "You'll notice that all of the values in the number are between 0 and 255. If we are training a neural network, for various reasons it's easier if we treat all values as between 0 and 1, a process called 'normalizing'...and fortunately in Python it's easy to normalize a list like this without looping. You do it like this:"
   ]
  },
  {
   "cell_type": "code",
   "execution_count": 10,
   "id": "523e6f94",
   "metadata": {},
   "outputs": [],
   "source": [
    "training_images = training_images / 255.0\n",
    "test_images = test_images / 255.0"
   ]
  },
  {
   "cell_type": "markdown",
   "id": "6b190c68",
   "metadata": {},
   "source": [
    "Now you might be wondering why there are 2 sets...training and testing -- remember we spoke about this in the intro? The idea is to have 1 set of data for training, and then another set of data...that the model hasn't yet seen...to see how good it would be at classifying values. After all, when you're done, you're going to want to try it out with data that it hadn't previously seen!"
   ]
  },
  {
   "cell_type": "code",
   "execution_count": 11,
   "id": "3c18913b",
   "metadata": {},
   "outputs": [],
   "source": [
    "model = tf.keras.models.Sequential([tf.keras.layers.Flatten(),\n",
    "                                   tf.keras.layers.Dense(128, activation = tf.nn.relu),\n",
    "                                   tf.keras.layers.Dense(10,activation = tf.nn.softmax)])"
   ]
  },
  {
   "cell_type": "markdown",
   "id": "19512a9d",
   "metadata": {},
   "source": [
    "Sequential: That defines a SEQUENCE of layers in the neural network\n",
    "\n",
    "Flatten: Remember earlier where our images were a square, when you printed them out? Flatten just takes that square and turns it into a 1 dimensional set.\n",
    "\n",
    "Dense: Adds a layer of neurons\n",
    "\n",
    "Each layer of neurons need an activation function to tell them what to do. There's lots of options, but just use these for now.\n",
    "\n",
    "Relu effectively means \"If X>0 return X, else return 0\" -- so what it does it it only passes values 0 or greater to the next layer in the network.\n",
    "\n",
    "Softmax takes a set of values, and effectively picks the biggest one, so, for example, if the output of the last layer looks like [0.1, 0.1, 0.05, 0.1, 9.5, 0.1, 0.05, 0.05, 0.05], it saves you from fishing through it looking for the biggest value, and turns it into [0,0,0,0,1,0,0,0,0] -- The goal is to save a lot of coding!\n",
    "\n",
    "The next thing to do, now the model is defined, is to actually build it. You do this by compiling it with an optimizer and loss function as before -- and then you train it by calling *model.fit * asking it to fit your training data to your training labels -- i.e. have it figure out the relationship between the training data and its actual labels, so in future if you have data that looks like the training data, then it can make a prediction for what that data would look like."
   ]
  },
  {
   "cell_type": "code",
   "execution_count": 10,
   "id": "1beaa705",
   "metadata": {},
   "outputs": [
    {
     "name": "stdout",
     "output_type": "stream",
     "text": [
      "Epoch 1/5\n",
      "1875/1875 [==============================] - 4s 2ms/step - loss: 0.4933 - accuracy: 0.8257\n",
      "Epoch 2/5\n",
      "1875/1875 [==============================] - 3s 2ms/step - loss: 0.3691 - accuracy: 0.8681\n",
      "Epoch 3/5\n",
      "1875/1875 [==============================] - 3s 2ms/step - loss: 0.3321 - accuracy: 0.8797\n",
      "Epoch 4/5\n",
      "1875/1875 [==============================] - 3s 1ms/step - loss: 0.3094 - accuracy: 0.8860\n",
      "Epoch 5/5\n",
      "1875/1875 [==============================] - 3s 1ms/step - loss: 0.2923 - accuracy: 0.8917\n"
     ]
    },
    {
     "data": {
      "text/plain": [
       "<keras.callbacks.History at 0x18889166c40>"
      ]
     },
     "execution_count": 10,
     "metadata": {},
     "output_type": "execute_result"
    }
   ],
   "source": [
    "model.compile(optimizer = tf.optimizers.Adam(),\n",
    "             loss = 'sparse_categorical_crossentropy',\n",
    "             metrics = ['accuracy'])\n",
    "model.fit(training_images, training_labels, epochs = 5)"
   ]
  },
  {
   "cell_type": "markdown",
   "id": "fcccc83e",
   "metadata": {},
   "source": [
    "Once it's done training -- you should see an accuracy value at the end of the final epoch. It might look something like 0.9098. This tells you that your neural network is about 91% accurate in classifying the training data. I.E., it figured out a pattern match between the image and the labels that worked 91% of the time. Not great, but not bad considering it was only trained for 5 epochs and done quite quickly.\n",
    "\n",
    "But how would it work with unseen data? That's why we have the test images. We can call model.evaluate, and pass in the two sets, and it will report back the loss for each. Let's give it a try:"
   ]
  },
  {
   "cell_type": "code",
   "execution_count": 11,
   "id": "632f8c06",
   "metadata": {},
   "outputs": [
    {
     "name": "stdout",
     "output_type": "stream",
     "text": [
      "313/313 [==============================] - 1s 1ms/step - loss: 0.3653 - accuracy: 0.8694\n"
     ]
    },
    {
     "data": {
      "text/plain": [
       "[0.36530354619026184, 0.8694000244140625]"
      ]
     },
     "execution_count": 11,
     "metadata": {},
     "output_type": "execute_result"
    }
   ],
   "source": [
    "model.evaluate(test_images, test_labels)"
   ]
  },
  {
   "cell_type": "markdown",
   "id": "645706d0",
   "metadata": {},
   "source": [
    "Evaluate method: Returns the loss value & metrics values for the model in test mode.\n",
    "\n",
    "loss is 37 % and accuracy is 86%\n",
    "\n",
    "For me, that returned a accuracy of about .8664, which means it was about 86% accurate. As expected it probably would not do as well with unseen data as it did with data it was trained on!"
   ]
  },
  {
   "cell_type": "code",
   "execution_count": 12,
   "id": "635d6d65",
   "metadata": {},
   "outputs": [
    {
     "data": {
      "text/plain": [
       "array([[2.1960227e-06, 5.8164424e-06, 1.5202180e-06, ..., 5.5684432e-02, 2.0616853e-05, 8.9588076e-01],\n",
       "       [5.4369470e-05, 1.4730844e-10, 9.8881358e-01, ..., 2.9303018e-12, 5.9910789e-08, 6.6996367e-16],\n",
       "       [2.5280718e-07, 9.9999976e-01, 1.5720083e-08, ..., 3.7271858e-17, 3.9360494e-12, 1.5548977e-15],\n",
       "       ...,\n",
       "       [1.8617666e-03, 2.9398468e-09, 2.9743498e-04, ..., 8.0189307e-07, 9.9513727e-01, 6.3746775e-08],\n",
       "       [5.0781259e-06, 9.9987090e-01, 4.8142385e-07, ..., 9.4792771e-11, 1.8417957e-08, 4.2975346e-10],\n",
       "       [4.4822882e-06, 2.6690904e-07, 5.0847584e-06, ..., 3.1625491e-03, 1.2572728e-04, 7.0894434e-06]], dtype=float32)"
      ]
     },
     "execution_count": 12,
     "metadata": {},
     "output_type": "execute_result"
    }
   ],
   "source": [
    "model.predict(test_images)"
   ]
  },
  {
   "cell_type": "markdown",
   "id": "95372f06",
   "metadata": {},
   "source": [
    "### Exercises:"
   ]
  },
  {
   "cell_type": "code",
   "execution_count": 13,
   "id": "553bcfc3",
   "metadata": {},
   "outputs": [],
   "source": [
    "import tensorflow as tf"
   ]
  },
  {
   "cell_type": "code",
   "execution_count": 14,
   "id": "5554b260",
   "metadata": {},
   "outputs": [
    {
     "name": "stdout",
     "output_type": "stream",
     "text": [
      "[2.1960227e-06 5.8164424e-06 1.5202180e-06 1.9099271e-08 4.2568834e-07 4.8400309e-02 3.9539227e-06 5.5684432e-02 2.0616853e-05 8.9588076e-01]\n"
     ]
    }
   ],
   "source": [
    "classifications = model.predict(test_images)\n",
    "print(classifications[0])"
   ]
  },
  {
   "cell_type": "code",
   "execution_count": 15,
   "id": "7ee1a98d",
   "metadata": {},
   "outputs": [
    {
     "name": "stdout",
     "output_type": "stream",
     "text": [
      "9\n"
     ]
    }
   ],
   "source": [
    "print(test_labels[0])"
   ]
  },
  {
   "cell_type": "code",
   "execution_count": 16,
   "id": "d06b7d59",
   "metadata": {},
   "outputs": [
    {
     "name": "stdout",
     "output_type": "stream",
     "text": [
      "[8.2078105e-07 1.4386711e-07 1.5210013e-02 3.2272592e-08 9.8461539e-01 1.3964593e-10 1.7340099e-04 3.1175978e-11 6.3760766e-08 6.0843190e-14]\n"
     ]
    }
   ],
   "source": [
    "classifications = model.predict(test_images)\n",
    "print(classifications[5003])"
   ]
  },
  {
   "cell_type": "code",
   "execution_count": 17,
   "id": "87cbbeb9",
   "metadata": {},
   "outputs": [
    {
     "name": "stdout",
     "output_type": "stream",
     "text": [
      "4\n"
     ]
    }
   ],
   "source": [
    "print(test_labels[5003])"
   ]
  },
  {
   "cell_type": "code",
   "execution_count": 18,
   "id": "e4567ca2",
   "metadata": {},
   "outputs": [
    {
     "data": {
      "text/plain": [
       "<matplotlib.image.AxesImage at 0x188893b09a0>"
      ]
     },
     "execution_count": 18,
     "metadata": {},
     "output_type": "execute_result"
    },
    {
     "data": {
      "image/png": "[encoded data removed]",
      "text/plain": [
       "<Figure size 432x288 with 1 Axes>"
      ]
     },
     "metadata": {
      "needs_background": "light"
     },
     "output_type": "display_data"
    }
   ],
   "source": [
    "import matplotlib.pyplot as plt\n",
    "plt.imshow(test_images[5003])"
   ]
  },
  {
   "cell_type": "markdown",
   "id": "e245b1e8",
   "metadata": {},
   "source": [
    "### E1Q1: What does this list represent? \n",
    "It's the probability that this item is each of the 10 classes"
   ]
  },
  {
   "cell_type": "markdown",
   "id": "f99092cf",
   "metadata": {},
   "source": [
    "Answer:\n",
    "The correct answer: it is the probability of image or index or item passed resemble to each of the 10 classes\n",
    "\n",
    "The output of the model is a list of 10 numbers. These numbers are a probability that the value being classified is the corresponding value (https://github.com/zalandoresearch/fashion-mnist#labels), i.e. the first value in the list is the probability that the image is of a '0' (T-shirt/top), the next is a '1' (Trouser) etc. Notice that they are all VERY LOW probabilities.\n",
    "\n",
    "For index 5003 (Dress), the probability was in the 90's, i.e. the neural network is telling us that the image is most likely an Dress."
   ]
  },
  {
   "cell_type": "markdown",
   "id": "7d3fc54c",
   "metadata": {},
   "source": [
    "### E1Q2: How do you know that this list tells you that the item is an ankle boot?\n",
    "\n",
    "ANS: The 10th element on the list is the biggest, and the ankle boot is labelled 9\n",
    "\n",
    "Both the list and the labels are 0 based, so the ankle boot having label 9 means that it is the 10th of the 10 classes. The list having the 10th element being the highest value means that the Neural Network has predicted that the item it is classifying is most likely an ankle boot"
   ]
  },
  {
   "cell_type": "code",
   "execution_count": 19,
   "id": "6a6b0110",
   "metadata": {},
   "outputs": [
    {
     "name": "stdout",
     "output_type": "stream",
     "text": [
      "[2.1960227e-06 5.8164424e-06 1.5202180e-06 1.9099271e-08 4.2568834e-07 4.8400309e-02 3.9539227e-06 5.5684432e-02 2.0616853e-05 8.9588076e-01]\n"
     ]
    }
   ],
   "source": [
    "classifications = model.predict(test_images)\n",
    "print(classifications[0])"
   ]
  },
  {
   "cell_type": "code",
   "execution_count": 20,
   "id": "d5e3d4a3",
   "metadata": {},
   "outputs": [
    {
     "name": "stdout",
     "output_type": "stream",
     "text": [
      "9\n"
     ]
    }
   ],
   "source": [
    "print(test_labels[0])"
   ]
  },
  {
   "cell_type": "code",
   "execution_count": 21,
   "id": "2fb95ea1",
   "metadata": {},
   "outputs": [
    {
     "data": {
      "text/plain": [
       "<matplotlib.image.AxesImage at 0x18889402af0>"
      ]
     },
     "execution_count": 21,
     "metadata": {},
     "output_type": "execute_result"
    },
    {
     "data": {
      "image/png": "[encoded data removed]",
      "text/plain": [
       "<Figure size 432x288 with 1 Axes>"
      ]
     },
     "metadata": {
      "needs_background": "light"
     },
     "output_type": "display_data"
    }
   ],
   "source": [
    "import matplotlib.pyplot as plt\n",
    "plt.imshow(test_images[0])"
   ]
  },
  {
   "cell_type": "code",
   "execution_count": 22,
   "id": "3400b77f",
   "metadata": {},
   "outputs": [
    {
     "name": "stdout",
     "output_type": "stream",
     "text": [
      "Epoch 1/5\n",
      "1875/1875 [==============================] - 12s 6ms/step - loss: 0.1860\n",
      "Epoch 2/5\n",
      "1875/1875 [==============================] - 13s 7ms/step - loss: 0.0743\n",
      "Epoch 3/5\n",
      "1875/1875 [==============================] - 13s 7ms/step - loss: 0.0498\n",
      "Epoch 4/5\n",
      "1875/1875 [==============================] - 12s 6ms/step - loss: 0.0358\n",
      "Epoch 5/5\n",
      "1875/1875 [==============================] - 12s 6ms/step - loss: 0.0257\n",
      "313/313 [==============================] - 1s 3ms/step - loss: 0.0745\n",
      "[7.1044298e-10 7.3722928e-10 3.3699055e-09 2.1103439e-07 5.6984570e-16 1.3876617e-10 1.1322728e-12 9.9999976e-01 3.6235875e-10 1.0056977e-08]\n",
      "7\n"
     ]
    }
   ],
   "source": [
    "mnist = tf.keras.datasets.mnist\n",
    "\n",
    "(training_images, training_labels) ,  (test_images, test_labels) = mnist.load_data()\n",
    "\n",
    "training_images = training_images/255.0\n",
    "test_images = test_images/255.0\n",
    "\n",
    "model = tf.keras.models.Sequential([tf.keras.layers.Flatten(),\n",
    "                                    tf.keras.layers.Dense(1024, activation=tf.nn.relu), # Try experimenting with this layer\n",
    "                                    tf.keras.layers.Dense(10, activation=tf.nn.softmax)])\n",
    "\n",
    "model.compile(optimizer = 'adam',\n",
    "              loss = 'sparse_categorical_crossentropy')\n",
    "\n",
    "model.fit(training_images, training_labels, epochs=5)\n",
    "\n",
    "model.evaluate(test_images, test_labels)\n",
    "\n",
    "classifications = model.predict(test_images)\n",
    "\n",
    "print(classifications[0])\n",
    "print(test_labels[0])"
   ]
  },
  {
   "cell_type": "code",
   "execution_count": 23,
   "id": "5ec83d7b",
   "metadata": {},
   "outputs": [
    {
     "data": {
      "text/plain": [
       "<matplotlib.image.AxesImage at 0x18889e9fe20>"
      ]
     },
     "execution_count": 23,
     "metadata": {},
     "output_type": "execute_result"
    },
    {
     "data": {
      "image/png": "[encoded data removed]",
      "text/plain": [
       "<Figure size 432x288 with 1 Axes>"
      ]
     },
     "metadata": {
      "needs_background": "light"
     },
     "output_type": "display_data"
    }
   ],
   "source": [
    "import matplotlib.pyplot as plt\n",
    "plt.imshow(test_images[0])"
   ]
  },
  {
   "cell_type": "code",
   "execution_count": 24,
   "id": "4ec3afb1",
   "metadata": {},
   "outputs": [
    {
     "name": "stdout",
     "output_type": "stream",
     "text": [
      "[9.9999988e-01 2.1632933e-10 3.0347643e-08 1.3907080e-11 5.3660694e-11 4.0111220e-10 8.8377341e-09 1.6866807e-07 4.0239838e-12 4.6244758e-10]\n",
      "0\n"
     ]
    },
    {
     "data": {
      "text/plain": [
       "<matplotlib.image.AxesImage at 0x18889358c10>"
      ]
     },
     "execution_count": 24,
     "metadata": {},
     "output_type": "execute_result"
    },
    {
     "data": {
      "image/png": "[encoded data removed]",
      "text/plain": [
       "<Figure size 432x288 with 1 Axes>"
      ]
     },
     "metadata": {
      "needs_background": "light"
     },
     "output_type": "display_data"
    }
   ],
   "source": [
    "classifications = model.predict(test_images)\n",
    "print(classifications[3])\n",
    "print(test_labels[3])\n",
    "plt.imshow(test_images[3])"
   ]
  },
  {
   "cell_type": "code",
   "execution_count": 25,
   "id": "f7770e36",
   "metadata": {},
   "outputs": [
    {
     "name": "stdout",
     "output_type": "stream",
     "text": [
      "[1.1295883e-13 9.5655726e-11 2.8393501e-10 2.4048680e-13 9.9986005e-01 6.5281389e-09 4.9501372e-09 7.6986659e-08 2.4057370e-06 1.3742057e-04]\n",
      "4\n"
     ]
    },
    {
     "data": {
      "text/plain": [
       "<matplotlib.image.AxesImage at 0x1888914a640>"
      ]
     },
     "execution_count": 25,
     "metadata": {},
     "output_type": "execute_result"
    },
    {
     "data": {
      "image/png": "[encoded data removed]",
      "text/plain": [
       "<Figure size 432x288 with 1 Axes>"
      ]
     },
     "metadata": {
      "needs_background": "light"
     },
     "output_type": "display_data"
    }
   ],
   "source": [
    "classifications = model.predict(test_images)\n",
    "print(classifications[6])\n",
    "print(test_labels[6])\n",
    "plt.imshow(test_images[6])"
   ]
  },
  {
   "cell_type": "markdown",
   "id": "23718eb4",
   "metadata": {},
   "source": [
    "### E2Q1: Increase to 1024 Neurons -- What's the impact?\n",
    "Training takes longer, but is more accurate\n",
    "\n",
    "The correct answer is (1) by adding more Neurons we have to do more calculations, slowing down the process, but in this case they have a good impact -- we do get more accurate. That doesn't mean it's always a case of 'more is better', you can hit the law of diminishing returns very quickly!"
   ]
  },
  {
   "cell_type": "markdown",
   "id": "a7043f62",
   "metadata": {},
   "source": [
    "### E3Q1: What would happen if you remove the Flatten() layer. Why do you think that's the case?\n",
    "### Answer\n",
    "You get an error about the shape of the data. It may seem vague right now, but it reinforces the rule of thumb that the first layer in your network should be the same shape as your data. Right now our data is 28x28 images, and 28 layers of 28 neurons would be infeasible, so it makes more sense to 'flatten' that 28,28 into a 784x1. Instead of writng all the code to handle that ourselves, we add the Flatten() layer at the begining, and when the arrays are loaded into the model later, they'll automatically be flattened for us."
   ]
  },
  {
   "cell_type": "markdown",
   "id": "10dc2e21",
   "metadata": {},
   "source": [
    "### Exercise 4:\n",
    "Consider the final (output) layers. Why are there 10 of them? What would happen if you had a different amount than 10? For example, try training the network with 5.\n",
    "\n",
    "### Answer\n",
    "You get an error as soon as it finds an unexpected value. Another rule of thumb -- the number of neurons in the last layer should match the number of classes you are classifying for. In this case it's the digits 0-9, so there are 10 of them, hence you should have 10 neurons in your final layer."
   ]
  },
  {
   "cell_type": "markdown",
   "id": "17f49dd9",
   "metadata": {},
   "source": [
    "### Exercise 5:\n",
    "Consider the effects of additional layers in the network. What will happen if you add another layer between the one with 512 and the final layer with 10.\n",
    "\n",
    "### Answer\n",
    "There isn't a significant impact -- because this is relatively simple data. For far more complex data (including color images to be classified as flowers that you'll see in the next lesson), extra layers are often necessary."
   ]
  },
  {
   "cell_type": "code",
   "execution_count": 26,
   "id": "88a9f7db",
   "metadata": {},
   "outputs": [
    {
     "name": "stdout",
     "output_type": "stream",
     "text": [
      "Epoch 1/5\n",
      "1875/1875 [==============================] - 8s 4ms/step - loss: 5.5650\n",
      "Epoch 2/5\n",
      "1875/1875 [==============================] - 7s 4ms/step - loss: 5.5460\n",
      "Epoch 3/5\n",
      "1875/1875 [==============================] - 7s 4ms/step - loss: 5.5452\n",
      "Epoch 4/5\n",
      "1875/1875 [==============================] - 7s 4ms/step - loss: 5.5452\n",
      "Epoch 5/5\n",
      "1875/1875 [==============================] - 8s 4ms/step - loss: 5.5452\n",
      "313/313 [==============================] - 1s 2ms/step - loss: 5.5452\n",
      "[0. 0. 0. 0. 0. 0. 0. 0. 0. 0. 0. 0. 0. 0. 0. 0. 0. 0. 0. 0. 0. 0. 0. 0. 0. 0. 0. 0. 0. 0. 0. 0. 0. 0. 0. 0. 0. 0. 0. 0. 0. 0. 0. 0. 0. 0. 0. 0. 0. 0. 0. 0. 0. 0. 0. 0. 0. 0. 0. 0. 0. 0. 0. 0. 0. 0.\n",
      " 0. 0. 0. 0. 0. 0. 0. 0. 0. 0. 0. 0. 0. 0. 0. 0. 0. 0. 0. 0. 0. 0. 0. 0. 0. 0. 0. 0. 0. 0. 0. 0. 0. 0. 0. 0. 0. 0. 0. 0. 0. 0. 0. 0. 0. 0. 0. 0. 0. 0. 0. 0. 0. 0. 0. 0. 0. 0. 0. 0. 0. 0. 0. 0. 0. 0.\n",
      " 0. 0. 0. 0. 0. 0. 0. 0. 0. 0. 0. 0. 0. 0. 0. 0. 0. 0. 0. 0. 0. 0. 0. 0. 0. 0. 0. 0. 0. 0. 0. 0. 0. 0. 0. 0. 0. 0. 0. 0. 0. 0. 0. 0. 0. 0. 0. 0. 0. 0. 0. 0. 0. 0. 0. 0. 0. 0. 0. 0. 0. 0. 0. 0. 0. 0.\n",
      " 0. 0. 0. 0. 0. 0. 0. 0. 0. 0. 0. 0. 0. 0. 0. 0. 0. 0. 0. 0. 0. 0. 0. 0. 0. 0. 0. 0. 0. 0. 0. 0. 0. 0. 0. 0. 0. 0. 0. 0. 0. 0. 0. 0. 0. 0. 0. 0. 0. 0. 0. 0. 0. 0. 0. 0. 0. 0.]\n",
      "7\n"
     ]
    },
    {
     "data": {
      "text/plain": [
       "<matplotlib.image.AxesImage at 0x1888b0a4ee0>"
      ]
     },
     "execution_count": 26,
     "metadata": {},
     "output_type": "execute_result"
    },
    {
     "data": {
      "image/png": "[encoded data removed]",
      "text/plain": [
       "<Figure size 432x288 with 1 Axes>"
      ]
     },
     "metadata": {
      "needs_background": "light"
     },
     "output_type": "display_data"
    }
   ],
   "source": [
    "mnist = tf.keras.datasets.mnist\n",
    "\n",
    "(training_images, training_labels) ,  (test_images, test_labels) = mnist.load_data()\n",
    "\n",
    "training_images = training_images/255.0\n",
    "test_images = test_images/255.0\n",
    "\n",
    "model = tf.keras.models.Sequential([tf.keras.layers.Flatten(),\n",
    "                                    tf.keras.layers.Dense(256, activation=tf.nn.relu),\n",
    "                                    tf.keras.layers.Dense(512, activation=tf.nn.relu),\n",
    "                                    tf.keras.layers.Dense(256, activation=tf.nn.relu),\n",
    "                                  ])\n",
    "\n",
    "model.compile(optimizer = 'adam',\n",
    "              loss = 'sparse_categorical_crossentropy')\n",
    "\n",
    "model.fit(training_images, training_labels, epochs=5)\n",
    "\n",
    "model.evaluate(test_images, test_labels)\n",
    "\n",
    "classifications = model.predict(test_images)\n",
    "\n",
    "print(classifications[0])\n",
    "print(test_labels[0])\n",
    "plt.imshow(test_images[0])"
   ]
  },
  {
   "cell_type": "code",
   "execution_count": 27,
   "id": "692f8f1d",
   "metadata": {},
   "outputs": [
    {
     "name": "stdout",
     "output_type": "stream",
     "text": [
      "[0. 0. 0. 0. 0. 0. 0. 0. 0. 0. 0. 0. 0. 0. 0. 0. 0. 0. 0. 0. 0. 0. 0. 0. 0. 0. 0. 0. 0. 0. 0. 0. 0. 0. 0. 0. 0. 0. 0. 0. 0. 0. 0. 0. 0. 0. 0. 0. 0. 0. 0. 0. 0. 0. 0. 0. 0. 0. 0. 0. 0. 0. 0. 0. 0. 0.\n",
      " 0. 0. 0. 0. 0. 0. 0. 0. 0. 0. 0. 0. 0. 0. 0. 0. 0. 0. 0. 0. 0. 0. 0. 0. 0. 0. 0. 0. 0. 0. 0. 0. 0. 0. 0. 0. 0. 0. 0. 0. 0. 0. 0. 0. 0. 0. 0. 0. 0. 0. 0. 0. 0. 0. 0. 0. 0. 0. 0. 0. 0. 0. 0. 0. 0. 0.\n",
      " 0. 0. 0. 0. 0. 0. 0. 0. 0. 0. 0. 0. 0. 0. 0. 0. 0. 0. 0. 0. 0. 0. 0. 0. 0. 0. 0. 0. 0. 0. 0. 0. 0. 0. 0. 0. 0. 0. 0. 0. 0. 0. 0. 0. 0. 0. 0. 0. 0. 0. 0. 0. 0. 0. 0. 0. 0. 0. 0. 0. 0. 0. 0. 0. 0. 0.\n",
      " 0. 0. 0. 0. 0. 0. 0. 0. 0. 0. 0. 0. 0. 0. 0. 0. 0. 0. 0. 0. 0. 0. 0. 0. 0. 0. 0. 0. 0. 0. 0. 0. 0. 0. 0. 0. 0. 0. 0. 0. 0. 0. 0. 0. 0. 0. 0. 0. 0. 0. 0. 0. 0. 0. 0. 0. 0. 0.]\n",
      "0\n"
     ]
    },
    {
     "data": {
      "text/plain": [
       "<matplotlib.image.AxesImage at 0x1888b0c6e50>"
      ]
     },
     "execution_count": 27,
     "metadata": {},
     "output_type": "execute_result"
    },
    {
     "data": {
      "image/png": "[encoded data removed]",
      "text/plain": [
       "<Figure size 432x288 with 1 Axes>"
      ]
     },
     "metadata": {
      "needs_background": "light"
     },
     "output_type": "display_data"
    }
   ],
   "source": [
    "import matplotlib.pyplot as plt\n",
    "print(classifications[3])\n",
    "print(test_labels[3])\n",
    "plt.imshow(test_images[3])"
   ]
  },
  {
   "cell_type": "markdown",
   "id": "38d291fc",
   "metadata": {},
   "source": [
    "### Exercise 6:\n",
    "E6Q1: Consider the impact of training for more or less epochs. Why do you think that would be the case?\n",
    "Try 15 epochs -- you'll probably get a model with a much better loss than the one with 5\n",
    "Try 30 epochs -- you might see the loss value stops decreasing, and sometimes increases.\n",
    "\n",
    "\n",
    "This is a side effect of something called 'overfitting' which you can learn about later and it's something you need to keep an eye out for when training neural networks. There's no point in wasting your time training if you aren't improving your loss, right! :)"
   ]
  },
  {
   "cell_type": "code",
   "execution_count": 28,
   "id": "5e00e309",
   "metadata": {},
   "outputs": [
    {
     "name": "stdout",
     "output_type": "stream",
     "text": [
      "Epoch 1/5\n",
      "1875/1875 [==============================] - 8s 4ms/step - loss: 2.7398\n",
      "Epoch 2/5\n",
      "1875/1875 [==============================] - 8s 4ms/step - loss: 0.3517\n",
      "Epoch 3/5\n",
      "1875/1875 [==============================] - 7s 4ms/step - loss: 0.2942\n",
      "Epoch 4/5\n",
      "1875/1875 [==============================] - 7s 4ms/step - loss: 0.2795\n",
      "Epoch 5/5\n",
      "1875/1875 [==============================] - 8s 4ms/step - loss: 0.2363\n",
      "313/313 [==============================] - 1s 2ms/step - loss: 0.3121\n",
      "[8.4502943e-37 1.5359080e-25 8.2283993e-19 1.4726778e-20 3.3630746e-24 4.1330266e-23 0.0000000e+00 1.0000000e+00 3.2559250e-24 2.1336667e-17]\n",
      "7\n"
     ]
    },
    {
     "data": {
      "text/plain": [
       "<matplotlib.image.AxesImage at 0x1888b464940>"
      ]
     },
     "execution_count": 28,
     "metadata": {},
     "output_type": "execute_result"
    },
    {
     "data": {
      "image/png": "[encoded data removed]",
      "text/plain": [
       "<Figure size 432x288 with 1 Axes>"
      ]
     },
     "metadata": {
      "needs_background": "light"
     },
     "output_type": "display_data"
    }
   ],
   "source": [
    "mnist = tf.keras.datasets.mnist\n",
    "(training_images, training_labels), (test_images, test_labels) = mnist.load_data()\n",
    "training_images=training_images # /255.0 # Experiment with removing this line\n",
    "test_images=test_images # /255.0 # Experiment with removing this line\n",
    "model = tf.keras.models.Sequential([\n",
    "  tf.keras.layers.Flatten(),\n",
    "  tf.keras.layers.Dense(512, activation=tf.nn.relu),\n",
    "  tf.keras.layers.Dense(10, activation=tf.nn.softmax)\n",
    "])\n",
    "model.compile(optimizer='adam', loss='sparse_categorical_crossentropy')\n",
    "model.fit(training_images, training_labels, epochs=5)\n",
    "model.evaluate(test_images, test_labels)\n",
    "classifications = model.predict(test_images)\n",
    "print(classifications[0])\n",
    "print(test_labels[0])\n",
    "plt.imshow(test_images[0])"
   ]
  },
  {
   "cell_type": "markdown",
   "id": "b24fe958",
   "metadata": {},
   "source": [
    "# Callbacks:"
   ]
  },
  {
   "cell_type": "code",
   "execution_count": 29,
   "id": "e3852494",
   "metadata": {},
   "outputs": [],
   "source": [
    "import tensorflow as tf"
   ]
  },
  {
   "cell_type": "code",
   "execution_count": 33,
   "id": "e0c86104",
   "metadata": {},
   "outputs": [
    {
     "name": "stdout",
     "output_type": "stream",
     "text": [
      "Epoch 1/10\n",
      "1875/1875 [==============================] - 6s 3ms/step - loss: 0.4730 - accuracy: 0.8324\n",
      "\n",
      "Reached 60% accuracy so cancelliing training!\n"
     ]
    },
    {
     "data": {
      "text/plain": [
       "<keras.callbacks.History at 0x1888fa489d0>"
      ]
     },
     "execution_count": 33,
     "metadata": {},
     "output_type": "execute_result"
    }
   ],
   "source": [
    "class myCallback(tf.keras.callbacks.Callback):\n",
    "    def on_epoch_end(self, epoch, logs={}):\n",
    "        if(logs.get('accuracy')>0.6):\n",
    "            print(\"\\nReached 60% accuracy so cancelliing training!\")\n",
    "            self.model.stop_training = True\n",
    "            \n",
    "mnist = tf.keras.datasets.fashion_mnist\n",
    "(x_train, y_train),(x_test, y_test) = mnist.load_data()\n",
    "x_train, x_test = x_train/255.0,x_test/255.0\n",
    "callbacks = myCallback()\n",
    "\n",
    "model = tf.keras.models.Sequential([\n",
    "    tf.keras.layers.Flatten(input_shape = (28,28)),\n",
    "    tf.keras.layers.Dense(512, activation= tf.nn.relu),\n",
    "    tf.keras.layers.Dense(10, activation = tf.nn.softmax)\n",
    "])\n",
    "model.compile(optimizer = tf.optimizers.Adam(),\n",
    "            loss = 'sparse_categorical_crossentropy',\n",
    "            metrics=['accuracy'])\n",
    "\n",
    "model.fit(x_train,y_train,epochs=10,callbacks=[callbacks])"
   ]
  },
  {
   "cell_type": "code",
   "execution_count": null,
   "id": "4ee2b2b6",
   "metadata": {},
   "outputs": [],
   "source": []
  }
 ],
 "metadata": {
  "kernelspec": {
   "display_name": "Python 3 (ipykernel)",
   "language": "python",
   "name": "python3"
  },
  "language_info": {
   "codemirror_mode": {
    "name": "ipython",
    "version": 3
   },
   "file_extension": ".py",
   "mimetype": "text/x-python",
   "name": "python",
   "nbconvert_exporter": "python",
   "pygments_lexer": "ipython3",
   "version": "3.9.2"
  }
 },
 "nbformat": 4,
 "nbformat_minor": 5
}
